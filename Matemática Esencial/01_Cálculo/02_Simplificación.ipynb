{
 "cells": [
  {
   "metadata": {},
   "cell_type": "markdown",
   "source": [
    "# Simplificación\n",
    "\n",
    "La reducción de una expresión matemática a su forma más simple. Esto implica eliminar términos innecesarios, combinar términos semejantes y aplicar propiedades algebraicas para simplificar la expresión.\n",
    "\n",
    "Usamos la librería `sympy` para simplificar expresiones matemáticas. La función `simplify` se utiliza para simplificar expresiones algebraicas, mientras que `expand` se utiliza para expandir expresiones algebraicas."
   ],
   "id": "c48d6ce92f404802"
  },
  {
   "metadata": {},
   "cell_type": "markdown",
   "source": "Importar la librería `sympy`",
   "id": "a6ec94e50406ed09"
  },
  {
   "metadata": {
    "ExecuteTime": {
     "end_time": "2025-05-01T23:38:10.205233Z",
     "start_time": "2025-05-01T23:38:09.891040Z"
    }
   },
   "cell_type": "code",
   "source": "from sympy import *",
   "id": "initial_id",
   "outputs": [],
   "execution_count": 1
  },
  {
   "metadata": {},
   "cell_type": "markdown",
   "source": [
    "## Nota\n",
    "Otras funciones útiles de SymPy para manipulación de expresiones:\n",
    "\n",
    "- **expand():** Expande una expresión polinómica. Por ejemplo, expand((x + 1)**2) daría x**2 + 2*x + 1.\n",
    "- **factor():** Factoriza una expresión polinómica. Por ejemplo, factor(x**2 + 2*x + 1) daría (x + 1)**2.\n",
    "- **collect(expr, var):** Agrupa los términos con la misma potencia de una variable.\n",
    "- **subs(old, new):** Sustituye una parte de la expresión por otra."
   ],
   "id": "ee5fcb329d6e63dc"
  },
  {
   "metadata": {},
   "cell_type": "markdown",
   "source": "#### Ejemplo: Simplificar $ \\frac{x^2}{x^5} $",
   "id": "b4edd2f56217bb04"
  },
  {
   "metadata": {},
   "cell_type": "code",
   "outputs": [
    {
     "data": {
      "text/plain": [
       "x**(-3)"
      ],
      "text/latex": "$\\displaystyle \\frac{1}{x^{3}}$"
     },
     "execution_count": 8,
     "metadata": {},
     "output_type": "execute_result"
    }
   ],
   "execution_count": 8,
   "source": [
    "x = symbols('x')\n",
    "expr = x**2 / x**5\n",
    "expr"
   ],
   "id": "eeedc3a9710e0a3a"
  },
  {
   "metadata": {},
   "cell_type": "markdown",
   "source": "#### Ejemplo: Simplificar $ \\frac{x^2 + 2xy + y^2}{x + y} $",
   "id": "e556afb412991e54"
  },
  {
   "metadata": {},
   "cell_type": "code",
   "outputs": [
    {
     "data": {
      "text/plain": [
       "(x**2 + 2*x*y + y**2)/(x + y)"
      ],
      "text/latex": "$\\displaystyle \\frac{x^{2} + 2 x y + y^{2}}{x + y}$"
     },
     "execution_count": 6,
     "metadata": {},
     "output_type": "execute_result"
    }
   ],
   "execution_count": 6,
   "source": [
    "x, y, z = symbols('x y z')\n",
    "expr = (x**2 + 2*x*y + y**2) / (x + y)\n",
    "expr"
   ],
   "id": "6b1a746a6851387b"
  },
  {
   "metadata": {},
   "cell_type": "code",
   "outputs": [
    {
     "data": {
      "text/plain": [
       "x + y"
      ],
      "text/latex": "$\\displaystyle x + y$"
     },
     "execution_count": 7,
     "metadata": {},
     "output_type": "execute_result"
    }
   ],
   "execution_count": 7,
   "source": [
    "expr_simplificada = simplify(expr)\n",
    "expr_simplificada"
   ],
   "id": "6d1c39078b256ed9"
  },
  {
   "metadata": {},
   "cell_type": "markdown",
   "source": "#### Ejemplo: Simplificar $sin^2(x) + cos^2(x)$",
   "id": "bbe91eb555c5cf2"
  },
  {
   "metadata": {},
   "cell_type": "code",
   "outputs": [
    {
     "data": {
      "text/plain": [
       "sin(x)**2 + cos(x)**2"
      ],
      "text/latex": "$\\displaystyle \\sin^{2}{\\left(x \\right)} + \\cos^{2}{\\left(x \\right)}$"
     },
     "execution_count": 11,
     "metadata": {},
     "output_type": "execute_result"
    }
   ],
   "execution_count": 11,
   "source": [
    "x = symbols('x')\n",
    "exp = cos(x)**2 + sin(x)**2\n",
    "exp"
   ],
   "id": "bc3852f160740e35"
  },
  {
   "metadata": {},
   "cell_type": "code",
   "outputs": [
    {
     "data": {
      "text/plain": [
       "1"
      ],
      "text/latex": "$\\displaystyle 1$"
     },
     "execution_count": 12,
     "metadata": {},
     "output_type": "execute_result"
    }
   ],
   "execution_count": 12,
   "source": [
    "expr_simplificada = simplify(exp)\n",
    "expr_simplificada"
   ],
   "id": "34284d20cf024286"
  },
  {
   "metadata": {},
   "cell_type": "markdown",
   "source": "#### Ejemplo: Expandir $ (x + y)^2 $",
   "id": "368fface763a6d35"
  },
  {
   "metadata": {},
   "cell_type": "code",
   "outputs": [
    {
     "data": {
      "text/plain": [
       "(x + y)**2"
      ],
      "text/latex": "$\\displaystyle \\left(x + y\\right)^{2}$"
     },
     "execution_count": 9,
     "metadata": {},
     "output_type": "execute_result"
    }
   ],
   "execution_count": 9,
   "source": [
    "x, y = symbols('x y')\n",
    "expr = (x + y)**2\n",
    "expr"
   ],
   "id": "7e2cb5d3c9c5a87"
  },
  {
   "metadata": {},
   "cell_type": "code",
   "outputs": [
    {
     "data": {
      "text/plain": [
       "x**2 + 2*x*y + y**2"
      ],
      "text/latex": "$\\displaystyle x^{2} + 2 x y + y^{2}$"
     },
     "execution_count": 10,
     "metadata": {},
     "output_type": "execute_result"
    }
   ],
   "execution_count": 10,
   "source": [
    "expr_expandida = expand(expr)\n",
    "expr_expandida"
   ],
   "id": "6cd26770f3e7759"
  }
 ],
 "metadata": {
  "kernelspec": {
   "display_name": "Python 3",
   "language": "python",
   "name": "python3"
  },
  "language_info": {
   "codemirror_mode": {
    "name": "ipython",
    "version": 2
   },
   "file_extension": ".py",
   "mimetype": "text/x-python",
   "name": "python",
   "nbconvert_exporter": "python",
   "pygments_lexer": "ipython2",
   "version": "2.7.6"
  }
 },
 "nbformat": 4,
 "nbformat_minor": 5
}
