{
 "cells": [
  {
   "cell_type": "code",
   "id": "initial_id",
   "metadata": {
    "collapsed": true,
    "ExecuteTime": {
     "end_time": "2025-05-02T19:26:15.284422Z",
     "start_time": "2025-05-02T19:26:15.282477Z"
    }
   },
   "source": [
    "import math\n",
    "from math import log, e\n",
    "import numpy as np"
   ],
   "outputs": [],
   "execution_count": 28
  },
  {
   "metadata": {},
   "cell_type": "markdown",
   "source": [
    "# Logaritmos\n",
    "\n",
    "El logaritmo es la operación inversa de la exponenciación. Si $b^y = x$, entonces $y = \\log_b(x)$."
   ],
   "id": "bcbab19b69ed72d0"
  },
  {
   "metadata": {},
   "cell_type": "markdown",
   "source": "### Ejemplos:",
   "id": "afb257e4a1b4d433"
  },
  {
   "metadata": {},
   "cell_type": "markdown",
   "source": "Ejemplo: $\\log_2(8)$",
   "id": "51f2582d02d2ddb1"
  },
  {
   "metadata": {
    "ExecuteTime": {
     "end_time": "2025-05-02T19:26:15.300596Z",
     "start_time": "2025-05-02T19:26:15.298054Z"
    }
   },
   "cell_type": "code",
   "source": [
    "x = np.log2(8)\n",
    "x"
   ],
   "id": "feea5ad55b5abbc9",
   "outputs": [
    {
     "data": {
      "text/plain": [
       "3.0"
      ]
     },
     "execution_count": 29,
     "metadata": {},
     "output_type": "execute_result"
    }
   ],
   "execution_count": 29
  },
  {
   "metadata": {},
   "cell_type": "markdown",
   "source": "Ejemplo: $\\log_5(25)$",
   "id": "8f07793ec7df4adc"
  },
  {
   "metadata": {
    "ExecuteTime": {
     "end_time": "2025-05-02T19:26:15.351676Z",
     "start_time": "2025-05-02T19:26:15.348500Z"
    }
   },
   "cell_type": "code",
   "source": [
    "x = np.log(25) / np.log(5)\n",
    "x"
   ],
   "id": "c0a8d96c4c516219",
   "outputs": [
    {
     "data": {
      "text/plain": [
       "2.0"
      ]
     },
     "execution_count": 30,
     "metadata": {},
     "output_type": "execute_result"
    }
   ],
   "execution_count": 30
  },
  {
   "metadata": {
    "ExecuteTime": {
     "end_time": "2025-05-02T19:26:15.401161Z",
     "start_time": "2025-05-02T19:26:15.397989Z"
    }
   },
   "cell_type": "code",
   "source": [
    "x = log(25, 5)\n",
    "x"
   ],
   "id": "f045e718f545f08",
   "outputs": [
    {
     "data": {
      "text/plain": [
       "2.0"
      ]
     },
     "execution_count": 31,
     "metadata": {},
     "output_type": "execute_result"
    }
   ],
   "execution_count": 31
  },
  {
   "metadata": {},
   "cell_type": "markdown",
   "source": [
    "## Propiedades de los logaritmos\n",
    "- $\\log_b(xy) = \\log_b(x) + \\log_b(y)$\n",
    "- $\\log_b\\left(\\frac{x}{y}\\right) = \\log_b(x) - \\log_b(y)$\n",
    "- $\\log_b(x^y) = y \\cdot \\log_b(x)$\n",
    "- $\\log_b(b) = 1$\n",
    "- $\\log_b(1) = 0$\n",
    "- $\\log_b(b^x) = x$\n",
    "- $\\log_b\\left(\\frac{1}{x}\\right) = -\\log_b(x)$\n",
    "- $\\log_b(x) = \\frac{\\log_k(x)}{\\log_k(b)}$ (Cambio de base)\n",
    "- $\\log_b(x) = \\frac{1}{\\log_x(b)}$ (Cambio de base)"
   ],
   "id": "5f9323dadedde4a2"
  },
  {
   "metadata": {},
   "cell_type": "markdown",
   "source": [
    "## Logaritmo natural\n",
    "\n",
    "El logaritmo natural es el logaritmo en base $e$, donde $e$ es la constante de Euler, aproximadamente igual a 2.71828. Se denota como $\\ln(x)$."
   ],
   "id": "9105ecec51f7f28f"
  },
  {
   "metadata": {},
   "cell_type": "markdown",
   "source": "### Ejemplos",
   "id": "557b4fb8378a959c"
  },
  {
   "metadata": {},
   "cell_type": "markdown",
   "source": "Ejemplo: $\\ln(2)$",
   "id": "54f112a3b50f5bdf"
  },
  {
   "metadata": {
    "ExecuteTime": {
     "end_time": "2025-05-02T19:26:15.450748Z",
     "start_time": "2025-05-02T19:26:15.448014Z"
    }
   },
   "cell_type": "code",
   "source": [
    "x = np.log(2)\n",
    "x"
   ],
   "id": "cb1b08b0076dac60",
   "outputs": [
    {
     "data": {
      "text/plain": [
       "0.6931471805599453"
      ]
     },
     "execution_count": 32,
     "metadata": {},
     "output_type": "execute_result"
    }
   ],
   "execution_count": 32
  },
  {
   "metadata": {},
   "cell_type": "markdown",
   "source": "Ejemplo: $\\ln(e^2)$",
   "id": "5668a5f858ec036a"
  },
  {
   "metadata": {
    "ExecuteTime": {
     "end_time": "2025-05-02T19:26:15.501480Z",
     "start_time": "2025-05-02T19:26:15.498458Z"
    }
   },
   "cell_type": "code",
   "source": [
    "x = np.log(e**2)\n",
    "x"
   ],
   "id": "f8722fa8fae47edd",
   "outputs": [
    {
     "data": {
      "text/plain": [
       "2.0"
      ]
     },
     "execution_count": 33,
     "metadata": {},
     "output_type": "execute_result"
    }
   ],
   "execution_count": 33
  }
 ],
 "metadata": {
  "kernelspec": {
   "display_name": "Python 3",
   "language": "python",
   "name": "python3"
  },
  "language_info": {
   "codemirror_mode": {
    "name": "ipython",
    "version": 2
   },
   "file_extension": ".py",
   "mimetype": "text/x-python",
   "name": "python",
   "nbconvert_exporter": "python",
   "pygments_lexer": "ipython2",
   "version": "2.7.6"
  }
 },
 "nbformat": 4,
 "nbformat_minor": 5
}
