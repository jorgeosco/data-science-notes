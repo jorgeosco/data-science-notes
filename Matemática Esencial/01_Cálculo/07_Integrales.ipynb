{
 "cells": [
  {
   "metadata": {
    "ExecuteTime": {
     "end_time": "2025-05-03T00:39:38.189763Z",
     "start_time": "2025-05-03T00:39:38.187157Z"
    }
   },
   "cell_type": "code",
   "source": "from sympy import *",
   "id": "c1acf01739a221ca",
   "outputs": [],
   "execution_count": 13
  },
  {
   "metadata": {},
   "cell_type": "markdown",
   "source": [
    "# Integrales\n",
    "\n",
    "Las integrales son una herramienta fundamental en el cálculo, que nos permiten calcular áreas bajo curvas, volúmenes de sólidos de revolución y resolver ecuaciones diferenciales, entre otras aplicaciones.\n",
    "La integral de una función $f(x)$ en el intervalo $[a, b]$ se define como el límite de la suma de áreas de rectángulos bajo la curva de $f(x)$ cuando el número de rectángulos tiende a infinito y su ancho tiende a cero.\n",
    "La notación para la integral definida es:\n",
    "$$\n",
    "\\int_a^b f(x) \\, dx\n",
    "$$"
   ],
   "id": "d56e5dd25a4f3a4c"
  },
  {
   "metadata": {},
   "cell_type": "markdown",
   "source": [
    "## Ejemplo\n",
    "\n",
    "Sea $f(x) = x^2 + 2$ en el intervalo $[0, 1]$ Hallar el área bajo la curva."
   ],
   "id": "3c8cdaed44dc99b5"
  },
  {
   "metadata": {},
   "cell_type": "markdown",
   "source": [
    "#### Utilizando sumas podemos aproximar el área bajo la curva\n",
    "\n",
    "$$\n",
    "A \\approx \\sum_{i=1}^n f(x_i) \\Delta x\n",
    "$$"
   ],
   "id": "ad2eb1885e62e4b6"
  },
  {
   "metadata": {
    "ExecuteTime": {
     "end_time": "2025-05-03T00:39:38.235462Z",
     "start_time": "2025-05-03T00:39:38.232297Z"
    }
   },
   "cell_type": "code",
   "source": [
    "def approximate_integral(a, b, n, f):\n",
    "    delta_x = (b - a) / n\n",
    "    total_sum = 0\n",
    "    for i in range(1, n + 1):\n",
    "        midpoint = 0.5 * (2 * a + delta_x * (2 * i - 1))\n",
    "        total_sum += f(midpoint)\n",
    "    return total_sum * delta_x\n",
    "\n",
    "def f(x):\n",
    "    return x**2 + 2"
   ],
   "id": "7ec76502ca987c69",
   "outputs": [],
   "execution_count": 14
  },
  {
   "metadata": {
    "ExecuteTime": {
     "end_time": "2025-05-03T00:39:38.288932Z",
     "start_time": "2025-05-03T00:39:38.285928Z"
    }
   },
   "cell_type": "code",
   "source": [
    "# Aproximación con 5 rectángulos\n",
    "area = approximate_integral(a=0, b=1, n=5, f=f)\n",
    "area"
   ],
   "id": "86475be2569e9bd6",
   "outputs": [
    {
     "data": {
      "text/plain": [
       "2.33"
      ]
     },
     "execution_count": 15,
     "metadata": {},
     "output_type": "execute_result"
    }
   ],
   "execution_count": 15
  },
  {
   "metadata": {
    "ExecuteTime": {
     "end_time": "2025-05-03T00:39:38.339588Z",
     "start_time": "2025-05-03T00:39:38.336653Z"
    }
   },
   "cell_type": "code",
   "source": [
    "# Aproximación con 10 rectángulos\n",
    "area = approximate_integral(a=0, b=1, n=1000, f=f)\n",
    "area"
   ],
   "id": "8b4744116a5a6d26",
   "outputs": [
    {
     "data": {
      "text/plain": [
       "2.3333332499999995"
      ]
     },
     "execution_count": 16,
     "metadata": {},
     "output_type": "execute_result"
    }
   ],
   "execution_count": 16
  },
  {
   "metadata": {
    "ExecuteTime": {
     "end_time": "2025-05-03T00:39:38.619493Z",
     "start_time": "2025-05-03T00:39:38.389875Z"
    }
   },
   "cell_type": "code",
   "source": [
    "# Aproximación con 1 000 000 rectángulos\n",
    "area = approximate_integral(a=0, b=1, n=1_000_000, f=f)\n",
    "area"
   ],
   "id": "986bb951133345cb",
   "outputs": [
    {
     "data": {
      "text/plain": [
       "2.333333333333288"
      ]
     },
     "execution_count": 17,
     "metadata": {},
     "output_type": "execute_result"
    }
   ],
   "execution_count": 17
  },
  {
   "metadata": {},
   "cell_type": "markdown",
   "source": [
    "#### Utilizando la integral definida de $f(x)$ en el intervalo $[0, 1]$.\n",
    "\n",
    "$$ A = \\int_0^1 (x^2 + 2) \\, dx $$"
   ],
   "id": "122239b1197cfcea"
  },
  {
   "metadata": {
    "ExecuteTime": {
     "end_time": "2025-05-03T00:40:44.222382Z",
     "start_time": "2025-05-03T00:40:44.209275Z"
    }
   },
   "cell_type": "code",
   "source": [
    "x = symbols('x')\n",
    "f = x**2 + 2\n",
    "area = integrate(f, (x, 0, 1))\n",
    "area"
   ],
   "id": "171bd00b1700ea3c",
   "outputs": [
    {
     "data": {
      "text/plain": [
       "7/3"
      ],
      "text/latex": "$\\displaystyle \\frac{7}{3}$"
     },
     "execution_count": 19,
     "metadata": {},
     "output_type": "execute_result"
    }
   ],
   "execution_count": 19
  },
  {
   "metadata": {},
   "cell_type": "markdown",
   "source": [
    "## Propiedades de las integrales\n",
    "- $\\int_a^b [f(x) + g(x)] \\, dx = \\int_a^b f(x) \\, dx + \\int_a^b g(x) \\, dx$\n",
    "- $\\int_a^b c f(x) \\, dx = c \\int_a^b f(x) \\, dx$, donde $c$ es una constante."
   ],
   "id": "d7c7d40b3de1b9b6"
  }
 ],
 "metadata": {
  "kernelspec": {
   "display_name": "Python 3",
   "language": "python",
   "name": "python3"
  },
  "language_info": {
   "codemirror_mode": {
    "name": "ipython",
    "version": 2
   },
   "file_extension": ".py",
   "mimetype": "text/x-python",
   "name": "python",
   "nbconvert_exporter": "python",
   "pygments_lexer": "ipython2",
   "version": "2.7.6"
  }
 },
 "nbformat": 4,
 "nbformat_minor": 5
}
