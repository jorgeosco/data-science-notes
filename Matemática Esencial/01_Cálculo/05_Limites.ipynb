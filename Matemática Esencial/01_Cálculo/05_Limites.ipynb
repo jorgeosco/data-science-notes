{
 "cells": [
  {
   "metadata": {
    "ExecuteTime": {
     "end_time": "2025-05-02T19:51:05.711365Z",
     "start_time": "2025-05-02T19:51:05.708705Z"
    }
   },
   "cell_type": "code",
   "source": [
    "from sympy import *\n",
    "import numpy as np\n",
    "import matplotlib.pyplot as plt"
   ],
   "id": "ab9abb251ba2883",
   "outputs": [],
   "execution_count": 29
  },
  {
   "metadata": {},
   "cell_type": "markdown",
   "source": [
    "# Limites\n",
    "\n",
    "Los límites son una herramienta fundamental en el cálculo y el análisis matemático. Se utilizan para describir el comportamiento de funciones a medida que se acercan a un punto específico o al infinito. Los límites son esenciales para definir conceptos como la continuidad, la derivada y la integral.\n",
    "Los límites se pueden expresar de varias maneras, pero la notación más común es:\n",
    "\n",
    "$$\\lim_{x \\to a} f(x) = L$$\n",
    "donde $f(x)$ es una función, $a$ es el punto al que se acerca $x$, y $L$ es el valor al que se aproxima la función. Esto significa que a medida que $x$ se acerca a $a$, el valor de $f(x)$ se aproxima a $L$."
   ],
   "id": "47cd26e00c6d22fb"
  },
  {
   "metadata": {},
   "cell_type": "markdown",
   "source": [
    "Ejemplo gráfico de un límite:\n",
    "$$\\lim_{x \\to 1} \\frac{x^2 - 1}{x - 1} = 2$$"
   ],
   "id": "b6b79d30ed5595f0"
  },
  {
   "metadata": {
    "ExecuteTime": {
     "end_time": "2025-05-02T19:51:05.727239Z",
     "start_time": "2025-05-02T19:51:05.725349Z"
    }
   },
   "cell_type": "code",
   "source": [
    "def f(x):\n",
    "    return (x**2 - 1) / (x - 1)"
   ],
   "id": "7ce3f5f146455798",
   "outputs": [],
   "execution_count": 30
  },
  {
   "metadata": {
    "ExecuteTime": {
     "end_time": "2025-05-02T19:51:05.807376Z",
     "start_time": "2025-05-02T19:51:05.805066Z"
    }
   },
   "cell_type": "code",
   "source": [
    "x = np.linspace(0.5, 1.5, 500)\n",
    "y = f(x)"
   ],
   "id": "4b2f5e88a48c913b",
   "outputs": [],
   "execution_count": 31
  },
  {
   "metadata": {
    "ExecuteTime": {
     "end_time": "2025-05-02T19:51:05.973327Z",
     "start_time": "2025-05-02T19:51:05.856143Z"
    }
   },
   "cell_type": "code",
   "source": [
    "plt.figure(figsize=(8, 6))\n",
    "plt.plot(x, y, label=r'$f(x) = \\frac{x^2 - 1}{x - 1}$', color='blue')\n",
    "plt.axvline(1, color='red', linestyle='--', label=r'$x \\to 1$')\n",
    "plt.axhline(2, color='green', linestyle='--', label=r'$L = 2$')\n",
    "plt.scatter(1, 2, color='white', zorder=5)\n",
    "plt.xlabel('x')\n",
    "plt.ylabel('f(x)')\n",
    "plt.legend()\n",
    "plt.grid(True)\n",
    "plt.show()"
   ],
   "id": "c68e94f7bcdabc82",
   "outputs": [
    {
     "data": {
      "text/plain": [
       "<Figure size 800x600 with 1 Axes>"
      ],
      "image/png": "[encoded data removed]"
     },
     "metadata": {},
     "output_type": "display_data"
    }
   ],
   "execution_count": 32
  },
  {
   "metadata": {},
   "cell_type": "markdown",
   "source": "### Ejemplos",
   "id": "aa2d85c73f99115b"
  },
  {
   "metadata": {},
   "cell_type": "markdown",
   "source": "1) $\\lim_{x \\to 2} (3x + 1)$",
   "id": "a50d80ac927b4e84"
  },
  {
   "cell_type": "code",
   "id": "initial_id",
   "metadata": {
    "collapsed": true,
    "ExecuteTime": {
     "end_time": "2025-05-02T19:51:05.989985Z",
     "start_time": "2025-05-02T19:51:05.986812Z"
    }
   },
   "source": [
    "x = symbols('x')\n",
    "f = 3*x + 1\n",
    "limite = limit(f, x, 2)\n",
    "limite"
   ],
   "outputs": [
    {
     "data": {
      "text/plain": [
       "7"
      ],
      "text/latex": "$\\displaystyle 7$"
     },
     "execution_count": 33,
     "metadata": {},
     "output_type": "execute_result"
    }
   ],
   "execution_count": 33
  },
  {
   "metadata": {},
   "cell_type": "markdown",
   "source": "2) $\\lim_{x \\to 0} \\frac{\\sin(x)}{x}$",
   "id": "b4a00d9994796994"
  },
  {
   "metadata": {
    "ExecuteTime": {
     "end_time": "2025-05-02T19:51:06.043718Z",
     "start_time": "2025-05-02T19:51:06.040555Z"
    }
   },
   "cell_type": "code",
   "source": [
    "x = symbols('x')\n",
    "f = sin(x)/x\n",
    "limite = limit(f, x, 0)\n",
    "limite"
   ],
   "id": "8ab1cc21d9976046",
   "outputs": [
    {
     "data": {
      "text/plain": [
       "1"
      ],
      "text/latex": "$\\displaystyle 1$"
     },
     "execution_count": 34,
     "metadata": {},
     "output_type": "execute_result"
    }
   ],
   "execution_count": 34
  },
  {
   "metadata": {},
   "cell_type": "markdown",
   "source": "3) $\\lim_{x \\to \\infty} \\frac{1}{x}$",
   "id": "c4a5d52f0f3253c8"
  },
  {
   "metadata": {
    "ExecuteTime": {
     "end_time": "2025-05-02T19:51:06.099388Z",
     "start_time": "2025-05-02T19:51:06.095256Z"
    }
   },
   "cell_type": "code",
   "source": [
    "x = symbols('x')\n",
    "f = 1/x\n",
    "limite = limit(f, x, oo)\n",
    "limite"
   ],
   "id": "130c6b3bb2b1fbea",
   "outputs": [
    {
     "data": {
      "text/plain": [
       "0"
      ],
      "text/latex": "$\\displaystyle 0$"
     },
     "execution_count": 35,
     "metadata": {},
     "output_type": "execute_result"
    }
   ],
   "execution_count": 35
  },
  {
   "metadata": {},
   "cell_type": "markdown",
   "source": "4) $\\lim_{x \\to \\infty} (1 + \\frac{1}{n})^n$",
   "id": "44dd8ae012179636"
  },
  {
   "metadata": {
    "ExecuteTime": {
     "end_time": "2025-05-02T19:58:35.615190Z",
     "start_time": "2025-05-02T19:58:35.605798Z"
    }
   },
   "cell_type": "code",
   "source": [
    "x = symbols('x')\n",
    "f = (1 + 1/x)**x\n",
    "limite = limit(f, x, oo)\n",
    "limite"
   ],
   "id": "6e56304be485ae0",
   "outputs": [
    {
     "data": {
      "text/plain": [
       "E"
      ],
      "text/latex": "$\\displaystyle e$"
     },
     "execution_count": 36,
     "metadata": {},
     "output_type": "execute_result"
    }
   ],
   "execution_count": 36
  }
 ],
 "metadata": {
  "kernelspec": {
   "display_name": "Python 3",
   "language": "python",
   "name": "python3"
  },
  "language_info": {
   "codemirror_mode": {
    "name": "ipython",
    "version": 2
   },
   "file_extension": ".py",
   "mimetype": "text/x-python",
   "name": "python",
   "nbconvert_exporter": "python",
   "pygments_lexer": "ipython2",
   "version": "2.7.6"
  }
 },
 "nbformat": 4,
 "nbformat_minor": 5
}
