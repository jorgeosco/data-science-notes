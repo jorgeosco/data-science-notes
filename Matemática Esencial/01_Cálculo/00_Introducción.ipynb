{
 "cells": [
  {
   "metadata": {},
   "cell_type": "markdown",
   "source": [
    "# Introducción\n",
    "\n",
    "En la ciencia de datos normalmente se trabaja con $\\mathbb{N}$, $\\mathbb{Z}$, $\\mathbb{Q}$, $\\mathbb{Q}^c$ y $\\mathbb{R}$. Los números $\\mathbb{C}$ se emplea en la descomposición matricial."
   ],
   "id": "f03827e89ccd4542"
  },
  {
   "metadata": {},
   "cell_type": "markdown",
   "source": "## Teoría de Números",
   "id": "800e6e45db270d43"
  },
  {
   "metadata": {},
   "cell_type": "markdown",
   "source": "**Números Naturales($\\mathbb{N}$):** Son los números {1, 2, 3, 4, ...}. números positivos.",
   "id": "73526709787ff67b"
  },
  {
   "metadata": {},
   "cell_type": "markdown",
   "source": "**Números Enteros($\\mathbb{Z}$):** Son los números {..., -3, -2, -1, 0, 1, 2, 3, ...}. números positivos, negativos incluyendo el cero.",
   "id": "3c9cc353c4b5812e"
  },
  {
   "metadata": {},
   "cell_type": "markdown",
   "source": [
    "**Números Racionales($\\mathbb{Q}$):** Son los números que se pueden expresar mediante una fracción p/q, donde p y q son enteros y q ≠ 0.\n",
    "\n",
    "$$\\mathbb{Q} = \\left\\{ \\frac{p}{q} \\, | \\, p, q \\in \\mathbb{Z}, q \\neq 0 \\right\\}$$"
   ],
   "id": "68dd48e6d19b5343"
  },
  {
   "metadata": {},
   "cell_type": "markdown",
   "source": [
    "**Números Irracionales($\\mathbb{Q}^c$):** Son los números que no se pueden expresar como una fracción.\n",
    "Por ejemplo, $\\sqrt{2}$, $\\pi$, $e$.\n",
    "\n",
    "$$\\mathbb{Q}^c = \\mathbb{R} - \\mathbb{Q}$$\n",
    "\n",
    "$$\\mathbb{Q}^c = \\left\\{ x \\, | \\, x \\notin \\mathbb{Q} \\right\\}$$"
   ],
   "id": "83b6908604d44a12"
  },
  {
   "metadata": {},
   "cell_type": "markdown",
   "source": [
    "**Números Reales($\\mathbb{R}$):** Es la unión de los números racionales y los números irracionales.\n",
    "$$\\mathbb{R} = \\mathbb{Q} \\cup \\mathbb{Q}^c$$"
   ],
   "id": "92a95a88a984b6b7"
  },
  {
   "metadata": {},
   "cell_type": "markdown",
   "source": "**Números Complejos($\\mathbb{C}$):** Son los números de la forma a + bi, donde a y b son números reales y i es la unidad imaginaria (i^2 = -1). Donde i se encuentra al calcular la raíz cuadrada de -1.",
   "id": "64d8898872d0d9dd"
  },
  {
   "metadata": {},
   "cell_type": "markdown",
   "source": "## El orden de las operaciones",
   "id": "74381548b78108fe"
  },
  {
   "metadata": {},
   "cell_type": "markdown",
   "source": [
    "El orden de las operaciones con **PEMDAS**:\n",
    "- **P**: Paréntesis\n",
    "- **E**: Exponentes\n",
    "- **M**: Multiplicación\n",
    "- **D**: División\n",
    "- **A**: Adición/Suma\n",
    "- **S**: Sustracción/Resta\n",
    "\n",
    "En código es recomendable usar paréntesis para evitar confusiones."
   ],
   "id": "8bd64c70bfebf7d9"
  },
  {
   "metadata": {
    "ExecuteTime": {
     "end_time": "2025-04-26T15:33:52.603740Z",
     "start_time": "2025-04-26T15:33:52.599936Z"
    }
   },
   "cell_type": "code",
   "source": "2 * ((3 + 2)**2 / 5) - 4",
   "id": "94708e44bf3d3647",
   "outputs": [
    {
     "data": {
      "text/plain": [
       "6.0"
      ]
     },
     "execution_count": 2,
     "metadata": {},
     "output_type": "execute_result"
    }
   ],
   "execution_count": 2
  },
  {
   "metadata": {
    "ExecuteTime": {
     "end_time": "2025-04-26T15:36:00.791313Z",
     "start_time": "2025-04-26T15:36:00.788227Z"
    }
   },
   "cell_type": "code",
   "source": "2 * ((3 + 2)**2 / (5 - 4))",
   "id": "96b179bde93aaaf0",
   "outputs": [
    {
     "data": {
      "text/plain": [
       "50.0"
      ]
     },
     "execution_count": 5,
     "metadata": {},
     "output_type": "execute_result"
    }
   ],
   "execution_count": 5
  },
  {
   "metadata": {},
   "cell_type": "markdown",
   "source": [
    "## Variables en código\n",
    "\n",
    "En matemáticas, una variable es el nombre de un valor no especificado o desconocido. Por ejemplos para  nombrar simbologia griega como $\\alpha$, $\\beta$, $\\gamma$. en código se puede usar el nombre de la variable.\n",
    "\n",
    "- $\\alpha$ --> alpha\n",
    "- $\\beta$ --> beta\n",
    "- $\\gamma$ --> gamma\n",
    "- $\\delta$ --> delta\n",
    "- $\\epsilon$ --> epsilon\n",
    "- $\\zeta$ --> zeta\n",
    "- $\\eta$ --> eta\n",
    "- $\\theta$ --> theta\n",
    "- ..."
   ],
   "id": "79b53fab9235c97c"
  }
 ],
 "metadata": {
  "kernelspec": {
   "display_name": "Python 3",
   "language": "python",
   "name": "python3"
  },
  "language_info": {
   "codemirror_mode": {
    "name": "ipython",
    "version": 2
   },
   "file_extension": ".py",
   "mimetype": "text/x-python",
   "name": "python",
   "nbconvert_exporter": "python",
   "pygments_lexer": "ipython2",
   "version": "2.7.6"
  }
 },
 "nbformat": 4,
 "nbformat_minor": 5
}
