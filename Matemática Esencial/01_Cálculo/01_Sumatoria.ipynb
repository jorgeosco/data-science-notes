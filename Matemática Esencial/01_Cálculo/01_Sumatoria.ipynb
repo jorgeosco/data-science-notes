{
 "cells": [
  {
   "cell_type": "code",
   "id": "initial_id",
   "metadata": {
    "collapsed": true,
    "ExecuteTime": {
     "end_time": "2025-05-01T23:20:34.360995Z",
     "start_time": "2025-05-01T23:20:34.262848Z"
    }
   },
   "source": "import numpy as np",
   "outputs": [],
   "execution_count": 4
  },
  {
   "metadata": {},
   "cell_type": "markdown",
   "source": [
    "# Sumatoria\n",
    "\n",
    "La sumatoria es una operación matemática que consiste en sumar una secuencia de números. Se representa con el símbolo $\\sum$ y se utiliza para expresar la suma de una serie de n términos."
   ],
   "id": "73d74c2147b749a2"
  },
  {
   "metadata": {},
   "cell_type": "markdown",
   "source": "Ejemplo: $\\sum_{i=1}^{6} x_i^2$",
   "id": "3488e15033b64633"
  },
  {
   "metadata": {
    "ExecuteTime": {
     "end_time": "2025-05-01T23:25:13.300598Z",
     "start_time": "2025-05-01T23:25:13.288929Z"
    }
   },
   "cell_type": "code",
   "source": [
    "x = [1, 2, 3, 4, 5, 6]\n",
    "n = len(x)\n",
    "sumatoria = sum(x[i]**2 for i in range(n))\n",
    "sumatoria"
   ],
   "id": "da9bab139c5cf60c",
   "outputs": [
    {
     "data": {
      "text/plain": [
       "91"
      ]
     },
     "execution_count": 9,
     "metadata": {},
     "output_type": "execute_result"
    }
   ],
   "execution_count": 9
  },
  {
   "metadata": {},
   "cell_type": "markdown",
   "source": "#### Ejemplo: $\\sum_{i=1}^{5} 2x_i$",
   "id": "d842855681ca1a00"
  },
  {
   "metadata": {
    "ExecuteTime": {
     "end_time": "2025-05-01T23:25:14.981287Z",
     "start_time": "2025-05-01T23:25:14.978064Z"
    }
   },
   "cell_type": "code",
   "source": [
    "x = np.array([1, 2, 3, 4, 5])\n",
    "sumatoria = np.sum(2 * x)\n",
    "sumatoria"
   ],
   "id": "5f8cb94e0a847f43",
   "outputs": [
    {
     "data": {
      "text/plain": [
       "30"
      ]
     },
     "execution_count": 10,
     "metadata": {},
     "output_type": "execute_result"
    }
   ],
   "execution_count": 10
  },
  {
   "metadata": {},
   "cell_type": "markdown",
   "source": "#### Ejemplo: $\\sum_{i=1}^{5} 2x_i + 3$",
   "id": "5d32bf4ef46a9f00"
  },
  {
   "metadata": {
    "ExecuteTime": {
     "end_time": "2025-05-01T23:28:26.135107Z",
     "start_time": "2025-05-01T23:28:26.132221Z"
    }
   },
   "cell_type": "code",
   "source": [
    "x = np.array([1, 2, 3, 4, 5])\n",
    "sumatoria = np.sum(2 * x + 3)\n",
    "sumatoria"
   ],
   "id": "bfacbe3c6bf24e31",
   "outputs": [
    {
     "data": {
      "text/plain": [
       "45"
      ]
     },
     "execution_count": 11,
     "metadata": {},
     "output_type": "execute_result"
    }
   ],
   "execution_count": 11
  }
 ],
 "metadata": {
  "kernelspec": {
   "display_name": "Python 3",
   "language": "python",
   "name": "python3"
  },
  "language_info": {
   "codemirror_mode": {
    "name": "ipython",
    "version": 2
   },
   "file_extension": ".py",
   "mimetype": "text/x-python",
   "name": "python",
   "nbconvert_exporter": "python",
   "pygments_lexer": "ipython2",
   "version": "2.7.6"
  }
 },
 "nbformat": 4,
 "nbformat_minor": 5
}
